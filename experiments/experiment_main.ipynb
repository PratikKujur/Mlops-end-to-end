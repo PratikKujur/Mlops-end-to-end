{
 "cells": [
  {
   "cell_type": "code",
   "execution_count": 1,
   "metadata": {},
   "outputs": [],
   "source": [
    "import pandas as pd\n",
    "import os\n",
    "import sys\n",
    "import yaml\n",
    "import numpy as np\n",
    "from sklearn.model_selection import train_test_split\n",
    "from sklearn.ensemble import RandomForestClassifier,RandomForestRegressor\n",
    "import mlflow\n",
    "import pickle\n"
   ]
  },
  {
   "cell_type": "code",
   "execution_count": 2,
   "metadata": {},
   "outputs": [
    {
     "data": {
      "text/html": [
       "<div>\n",
       "<style scoped>\n",
       "    .dataframe tbody tr th:only-of-type {\n",
       "        vertical-align: middle;\n",
       "    }\n",
       "\n",
       "    .dataframe tbody tr th {\n",
       "        vertical-align: top;\n",
       "    }\n",
       "\n",
       "    .dataframe thead th {\n",
       "        text-align: right;\n",
       "    }\n",
       "</style>\n",
       "<table border=\"1\" class=\"dataframe\">\n",
       "  <thead>\n",
       "    <tr style=\"text-align: right;\">\n",
       "      <th></th>\n",
       "      <th>Unnamed: 0</th>\n",
       "      <th>fixed acidity</th>\n",
       "      <th>volatile acidity</th>\n",
       "      <th>citric acid</th>\n",
       "      <th>residual sugar</th>\n",
       "      <th>chlorides</th>\n",
       "      <th>free sulfur dioxide</th>\n",
       "      <th>total sulfur dioxide</th>\n",
       "      <th>density</th>\n",
       "      <th>pH</th>\n",
       "      <th>sulphates</th>\n",
       "      <th>alcohol</th>\n",
       "      <th>quality</th>\n",
       "      <th>is_red</th>\n",
       "    </tr>\n",
       "  </thead>\n",
       "  <tbody>\n",
       "    <tr>\n",
       "      <th>0</th>\n",
       "      <td>0</td>\n",
       "      <td>7.4</td>\n",
       "      <td>0.70</td>\n",
       "      <td>0.00</td>\n",
       "      <td>1.9</td>\n",
       "      <td>0.076</td>\n",
       "      <td>11.0</td>\n",
       "      <td>34.0</td>\n",
       "      <td>0.9978</td>\n",
       "      <td>3.51</td>\n",
       "      <td>0.56</td>\n",
       "      <td>9.4</td>\n",
       "      <td>5</td>\n",
       "      <td>1</td>\n",
       "    </tr>\n",
       "    <tr>\n",
       "      <th>1</th>\n",
       "      <td>1</td>\n",
       "      <td>7.8</td>\n",
       "      <td>0.88</td>\n",
       "      <td>0.00</td>\n",
       "      <td>2.6</td>\n",
       "      <td>0.098</td>\n",
       "      <td>25.0</td>\n",
       "      <td>67.0</td>\n",
       "      <td>0.9968</td>\n",
       "      <td>3.20</td>\n",
       "      <td>0.68</td>\n",
       "      <td>9.8</td>\n",
       "      <td>5</td>\n",
       "      <td>1</td>\n",
       "    </tr>\n",
       "    <tr>\n",
       "      <th>2</th>\n",
       "      <td>2</td>\n",
       "      <td>7.8</td>\n",
       "      <td>0.76</td>\n",
       "      <td>0.04</td>\n",
       "      <td>2.3</td>\n",
       "      <td>0.092</td>\n",
       "      <td>15.0</td>\n",
       "      <td>54.0</td>\n",
       "      <td>0.9970</td>\n",
       "      <td>3.26</td>\n",
       "      <td>0.65</td>\n",
       "      <td>9.8</td>\n",
       "      <td>5</td>\n",
       "      <td>1</td>\n",
       "    </tr>\n",
       "    <tr>\n",
       "      <th>3</th>\n",
       "      <td>3</td>\n",
       "      <td>11.2</td>\n",
       "      <td>0.28</td>\n",
       "      <td>0.56</td>\n",
       "      <td>1.9</td>\n",
       "      <td>0.075</td>\n",
       "      <td>17.0</td>\n",
       "      <td>60.0</td>\n",
       "      <td>0.9980</td>\n",
       "      <td>3.16</td>\n",
       "      <td>0.58</td>\n",
       "      <td>9.8</td>\n",
       "      <td>6</td>\n",
       "      <td>1</td>\n",
       "    </tr>\n",
       "    <tr>\n",
       "      <th>4</th>\n",
       "      <td>4</td>\n",
       "      <td>7.4</td>\n",
       "      <td>0.66</td>\n",
       "      <td>0.00</td>\n",
       "      <td>1.8</td>\n",
       "      <td>0.075</td>\n",
       "      <td>13.0</td>\n",
       "      <td>40.0</td>\n",
       "      <td>0.9978</td>\n",
       "      <td>3.51</td>\n",
       "      <td>0.56</td>\n",
       "      <td>9.4</td>\n",
       "      <td>5</td>\n",
       "      <td>1</td>\n",
       "    </tr>\n",
       "  </tbody>\n",
       "</table>\n",
       "</div>"
      ],
      "text/plain": [
       "   Unnamed: 0  fixed acidity  volatile acidity  citric acid  residual sugar  \\\n",
       "0           0            7.4              0.70         0.00             1.9   \n",
       "1           1            7.8              0.88         0.00             2.6   \n",
       "2           2            7.8              0.76         0.04             2.3   \n",
       "3           3           11.2              0.28         0.56             1.9   \n",
       "4           4            7.4              0.66         0.00             1.8   \n",
       "\n",
       "   chlorides  free sulfur dioxide  total sulfur dioxide  density    pH  \\\n",
       "0      0.076                 11.0                  34.0   0.9978  3.51   \n",
       "1      0.098                 25.0                  67.0   0.9968  3.20   \n",
       "2      0.092                 15.0                  54.0   0.9970  3.26   \n",
       "3      0.075                 17.0                  60.0   0.9980  3.16   \n",
       "4      0.075                 13.0                  40.0   0.9978  3.51   \n",
       "\n",
       "   sulphates  alcohol  quality  is_red  \n",
       "0       0.56      9.4        5       1  \n",
       "1       0.68      9.8        5       1  \n",
       "2       0.65      9.8        5       1  \n",
       "3       0.58      9.8        6       1  \n",
       "4       0.56      9.4        5       1  "
      ]
     },
     "execution_count": 2,
     "metadata": {},
     "output_type": "execute_result"
    }
   ],
   "source": [
    "df=pd.read_csv(\"/Users/pratik.kujur/Desktop/Projects/Mlops-end-to-end/data/raw/winequality.csv\")\n",
    "df.head()"
   ]
  },
  {
   "cell_type": "markdown",
   "metadata": {},
   "source": [
    "### Data Pre-Processing"
   ]
  },
  {
   "cell_type": "code",
   "execution_count": 3,
   "metadata": {},
   "outputs": [
    {
     "data": {
      "text/plain": [
       "'/Users/pratik.kujur/Desktop/Projects/Mlops-end-to-end/experiments'"
      ]
     },
     "execution_count": 3,
     "metadata": {},
     "output_type": "execute_result"
    }
   ],
   "source": [
    "%pwd"
   ]
  },
  {
   "cell_type": "code",
   "execution_count": 4,
   "metadata": {},
   "outputs": [
    {
     "data": {
      "text/plain": [
       "'/Users/pratik.kujur/Desktop/Projects/Mlops-end-to-end'"
      ]
     },
     "execution_count": 4,
     "metadata": {},
     "output_type": "execute_result"
    }
   ],
   "source": [
    "os.chdir(\"../\")\n",
    "%pwd"
   ]
  },
  {
   "cell_type": "code",
   "execution_count": 5,
   "metadata": {},
   "outputs": [],
   "source": [
    "params=yaml.safe_load(open(\"/Users/pratik.kujur/Desktop/Projects/Mlops-end-to-end/params.yaml\"))['preprocess']"
   ]
  },
  {
   "cell_type": "code",
   "execution_count": 6,
   "metadata": {},
   "outputs": [],
   "source": [
    "def DataPreprocessing(input_path,output_path):\n",
    "    df=pd.read_csv(input_path)\n",
    "    print(\"Raw Data \\n\",df.head())\n",
    "    # add preprocessing step here\n",
    "\n",
    "    unecessary_col=['Unnamed: 0']\n",
    "    df.drop(labels=unecessary_col,axis='columns',inplace=True)\n",
    "    \n",
    "    os.makedirs(os.path.dirname(output_path),exist_ok=True)\n",
    "    df.to_csv(output_path,index=True,header=True)\n",
    "    print(\"Preprocessed Data \\n\",df.head())\n",
    "    print(f\"Preprocessed data is saved in this location -> {output_path}\")"
   ]
  },
  {
   "cell_type": "markdown",
   "metadata": {},
   "source": []
  },
  {
   "cell_type": "code",
   "execution_count": 11,
   "metadata": {},
   "outputs": [],
   "source": [
    "params_trainer=yaml.safe_load(open(\"/Users/pratik.kujur/Desktop/Projects/Mlops-end-to-end/params.yaml\"))['train']\n",
    "\n",
    "params_evalution=yaml.safe_load(open(\"/Users/pratik.kujur/Desktop/Projects/Mlops-end-to-end/params.yaml\"))[\"evalution\"]\n",
    "\n",
    "params_track=yaml.safe_load(open(\"/Users/pratik.kujur/Desktop/Projects/Mlops-end-to-end/params.yaml\"))[\"mlflow\"]"
   ]
  },
  {
   "cell_type": "markdown",
   "metadata": {},
   "source": [
    "### DataSplit"
   ]
  },
  {
   "cell_type": "code",
   "execution_count": 8,
   "metadata": {},
   "outputs": [],
   "source": [
    "def DataSplit(params_trainer,params_evalution,processed_path,\n",
    "              X_train_reg_path,y_train_reg_path,X_train_clf_path,y_train_clf_path,\n",
    "              y_test_reg_path,y_test_clf_path,X_test_reg_path,X_test_clf_path):\n",
    "\n",
    "    df=pd.read_csv(processed_path)\n",
    "\n",
    "    y_reg=df['quality']\n",
    "    y_clf=df['is_red']\n",
    "\n",
    "    X_clf=df.iloc[:,1:12]\n",
    "    X_reg=df.iloc[:,1:11]\n",
    "\n",
    "    X_train_reg,X_test_reg,y_train_reg,y_test_reg=train_test_split(X_reg,y_reg,test_size=0.2,random_state=42)\n",
    "    X_train_clf,X_test_clf,y_train_clf,y_test_clf=train_test_split(X_clf,y_clf,test_size=0.2,random_state=42)\n",
    "\n",
    "    os.makedirs(os.path.dirname(X_train_reg_path),exist_ok=True)\n",
    "    os.makedirs(os.path.dirname(X_test_reg_path),exist_ok=True)\n",
    "    os.makedirs(os.path.dirname(y_train_reg_path),exist_ok=True)\n",
    "    os.makedirs(os.path.dirname(y_test_reg_path),exist_ok=True)\n",
    "    os.makedirs(os.path.dirname(X_train_clf_path),exist_ok=True)\n",
    "    os.makedirs(os.path.dirname(X_test_clf_path),exist_ok=True)\n",
    "    os.makedirs(os.path.dirname(y_train_clf_path),exist_ok=True)\n",
    "    os.makedirs(os.path.dirname(y_test_clf_path),exist_ok=True)\n",
    "    \n",
    "    X_train_reg.to_csv(X_train_reg_path,index=False,header=None)\n",
    "    X_test_reg.to_csv(X_test_reg_path,index=False,header=None)\n",
    "    y_train_reg.to_csv(y_train_reg_path,index=False,header=None)\n",
    "    y_test_reg.to_csv(y_test_reg_path,index=False,header=None)\n",
    "    X_train_clf.to_csv(X_train_clf_path,index=False,header=None)\n",
    "    X_test_clf.to_csv(X_test_clf_path,index=False,header=None)\n",
    "    y_train_clf.to_csv(y_train_clf_path,index=False,header=None)\n",
    "    y_test_clf.to_csv(y_test_clf_path,index=False,header=None)\n",
    "    \n",
    "\n",
    "    print(f\"Data for Taining are saved at ->{params_trainer}\")\n",
    "    print(f\"Data for evalution are saved at ->{params_evalution}\")"
   ]
  },
  {
   "cell_type": "code",
   "execution_count": 9,
   "metadata": {},
   "outputs": [],
   "source": [
    "def ModelTrainer(reg,clf,model_reg_path,model_clf_path,\n",
    "                 X_train_reg,y_train_reg,X_train_clf,y_train_clf):\n",
    "    X_train_clf=pd.read_csv(X_train_clf)\n",
    "    y_train_clf=pd.read_csv(y_train_clf)\n",
    "    X_train_reg=pd.read_csv(X_train_reg)\n",
    "    y_train_reg=pd.read_csv(y_train_reg)\n",
    "    \n",
    "    reg.fit(X_train_reg,y_train_reg)\n",
    "    os.makedirs(os.path.dirname(model_reg_path),exist_ok=True)\n",
    "    pickle.dump(reg,open(model_reg_path,'wb'))\n",
    "\n",
    "    clf.fit(X_train_clf,y_train_clf)\n",
    "    os.makedirs(os.path.dirname(model_clf_path),exist_ok=True)\n",
    "    pickle.dump(clf,open(model_clf_path,'wb'))\n",
    "\n",
    "    print(f\"Regression model is saved at -> {model_reg_path}\",f\"Classification model is saved at -> {model_clf_path}\")\n"
   ]
  },
  {
   "cell_type": "code",
   "execution_count": null,
   "metadata": {},
   "outputs": [],
   "source": [
    "def ModelEvalution():\n",
    "    reg_params=reg.get_params()\n",
    "    clf_params=clf.get_params()\n",
    "\n",
    "    # Mlflow Tracking\n",
    "    mlflow.set_registry_uri(uri=uri)\n",
    "    mlflow.set_experiment(experiment_name=\"Multioutput_Model\")\n",
    "    with mlflow.start_run():\n",
    "    mlflow.log_params(reg_params)\n",
    "    mlflow.log_params(clf_params)"
   ]
  },
  {
   "cell_type": "code",
   "execution_count": null,
   "metadata": {},
   "outputs": [],
   "source": []
  },
  {
   "cell_type": "code",
   "execution_count": null,
   "metadata": {},
   "outputs": [
    {
     "name": "stdout",
     "output_type": "stream",
     "text": [
      "Raw Data \n",
      "    Unnamed: 0  fixed acidity  volatile acidity  citric acid  residual sugar  \\\n",
      "0           0            7.4              0.70         0.00             1.9   \n",
      "1           1            7.8              0.88         0.00             2.6   \n",
      "2           2            7.8              0.76         0.04             2.3   \n",
      "3           3           11.2              0.28         0.56             1.9   \n",
      "4           4            7.4              0.66         0.00             1.8   \n",
      "\n",
      "   chlorides  free sulfur dioxide  total sulfur dioxide  density    pH  \\\n",
      "0      0.076                 11.0                  34.0   0.9978  3.51   \n",
      "1      0.098                 25.0                  67.0   0.9968  3.20   \n",
      "2      0.092                 15.0                  54.0   0.9970  3.26   \n",
      "3      0.075                 17.0                  60.0   0.9980  3.16   \n",
      "4      0.075                 13.0                  40.0   0.9978  3.51   \n",
      "\n",
      "   sulphates  alcohol  quality  is_red  \n",
      "0       0.56      9.4        5       1  \n",
      "1       0.68      9.8        5       1  \n",
      "2       0.65      9.8        5       1  \n",
      "3       0.58      9.8        6       1  \n",
      "4       0.56      9.4        5       1  \n",
      "Preprocessed Data \n",
      "    fixed acidity  volatile acidity  citric acid  residual sugar  chlorides  \\\n",
      "0            7.4              0.70         0.00             1.9      0.076   \n",
      "1            7.8              0.88         0.00             2.6      0.098   \n",
      "2            7.8              0.76         0.04             2.3      0.092   \n",
      "3           11.2              0.28         0.56             1.9      0.075   \n",
      "4            7.4              0.66         0.00             1.8      0.075   \n",
      "\n",
      "   free sulfur dioxide  total sulfur dioxide  density    pH  sulphates  \\\n",
      "0                 11.0                  34.0   0.9978  3.51       0.56   \n",
      "1                 25.0                  67.0   0.9968  3.20       0.68   \n",
      "2                 15.0                  54.0   0.9970  3.26       0.65   \n",
      "3                 17.0                  60.0   0.9980  3.16       0.58   \n",
      "4                 13.0                  40.0   0.9978  3.51       0.56   \n",
      "\n",
      "   alcohol  quality  is_red  \n",
      "0      9.4        5       1  \n",
      "1      9.8        5       1  \n",
      "2      9.8        5       1  \n",
      "3      9.8        6       1  \n",
      "4      9.4        5       1  \n",
      "Preprocessed data is saved in this location -> data/processed/winequality.csv\n",
      "Data for Taining are saved at ->{'X_train_reg': 'data/for_training/X_train_reg.csv', 'y_train_reg': 'data/for_training//y_train_reg.csv', 'X_train_clf': 'data/for_training//X_train_clf.csv', 'y_train_clf': 'data/for_training//y_train_clf.csv', 'model_reg': 'models/model_1_reg.pkl', 'model_clf': 'models/model_1_clf.pkl'}\n",
      "Data for evalution are saved at ->{'y_test_reg': 'data/for_evalution/y_test_reg.csv', 'y_test_clf': 'data/for_evalution/y_test_clf.csv', 'X_test_reg': 'data/for_evalution/X_test_reg.csv', 'X_test_clf': 'data/for_evalution/X_test_clf.csv'}\n"
     ]
    },
    {
     "name": "stderr",
     "output_type": "stream",
     "text": [
      "/Users/pratik.kujur/Desktop/Projects/Mlops-end-to-end/.venv/lib/python3.10/site-packages/sklearn/base.py:1389: DataConversionWarning: A column-vector y was passed when a 1d array was expected. Please change the shape of y to (n_samples,), for example using ravel().\n",
      "  return fit_method(estimator, *args, **kwargs)\n",
      "/Users/pratik.kujur/Desktop/Projects/Mlops-end-to-end/.venv/lib/python3.10/site-packages/sklearn/base.py:1389: DataConversionWarning: A column-vector y was passed when a 1d array was expected. Please change the shape of y to (n_samples,), for example using ravel().\n",
      "  return fit_method(estimator, *args, **kwargs)\n"
     ]
    },
    {
     "name": "stdout",
     "output_type": "stream",
     "text": [
      "Regression model is saved at -> models/model_1_reg.pkl Classification model is saved at -> models/model_1_clf.pkl\n"
     ]
    }
   ],
   "source": [
    "if __name__==\"__main__\":\n",
    "    DataPreprocessing(params['input'],params['output'])\n",
    "    DataSplit(params_trainer,params_evalution,params['output'],\n",
    "              params_trainer['X_train_reg'],params_trainer['y_train_reg'],params_trainer['X_train_clf'],params_trainer['y_train_clf'],\n",
    "              params_evalution['y_test_reg'],params_evalution['y_test_clf'],params_evalution['X_test_reg'],params_evalution['X_test_clf'])\n",
    "    reg=RandomForestRegressor()\n",
    "    clf=RandomForestClassifier()\n",
    "    ModelTrainer(reg,clf,params_trainer['model_reg'],params_trainer['model_clf'],\n",
    "                params_trainer['X_train_reg'],params_trainer['y_train_reg'],params_trainer['X_train_clf'],params_trainer['y_train_clf'])"
   ]
  },
  {
   "cell_type": "code",
   "execution_count": null,
   "metadata": {},
   "outputs": [],
   "source": []
  }
 ],
 "metadata": {
  "kernelspec": {
   "display_name": ".venv",
   "language": "python",
   "name": "python3"
  },
  "language_info": {
   "codemirror_mode": {
    "name": "ipython",
    "version": 3
   },
   "file_extension": ".py",
   "mimetype": "text/x-python",
   "name": "python",
   "nbconvert_exporter": "python",
   "pygments_lexer": "ipython3",
   "version": "3.10.0"
  }
 },
 "nbformat": 4,
 "nbformat_minor": 2
}
